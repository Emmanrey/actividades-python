{
 "cells": [
  {
   "cell_type": "markdown",
   "metadata": {},
   "source": [
    "# Respuestas Python\n",
    "\n",
    "Aqui te dejo las respuestas, pero te recomiendo intentes realizarlos por tu cuenta primero."
   ]
  },
  {
   "cell_type": "markdown",
   "metadata": {},
   "source": [
    "1- Comprobamos si el numero esta o no en el array"
   ]
  },
  {
   "cell_type": "code",
   "execution_count": 1,
   "metadata": {},
   "outputs": [
    {
     "name": "stdout",
     "output_type": "stream",
     "text": [
      "True\n"
     ]
    }
   ],
   "source": [
    "array = [0,1,2,3,4,5,6,7,8,9,10,11,12,13,14,15,16,17,18,19,20]\n",
    "print(0 in array)"
   ]
  },
  {
   "cell_type": "markdown",
   "metadata": {},
   "source": [
    "2- Generamos un array con valores aleatorios"
   ]
  },
  {
   "cell_type": "code",
   "execution_count": 7,
   "metadata": {},
   "outputs": [
    {
     "name": "stdout",
     "output_type": "stream",
     "text": [
      "[96, 18, 35, 30, 32, 86, 68, 66, 22, 27, 60, 88, 67, 73, 37, 32, 6, 44, 47, 92]\n"
     ]
    }
   ],
   "source": [
    "import random\n",
    "\n",
    "array = []\n",
    "\n",
    "for i in range(0,20):\n",
    "    array.append(random.randint(0,100))\n",
    "print(array)"
   ]
  },
  {
   "cell_type": "markdown",
   "metadata": {},
   "source": [
    "3- Si el numero esta en la lista, imprimimo el indice de la posicion"
   ]
  },
  {
   "cell_type": "code",
   "execution_count": null,
   "metadata": {},
   "outputs": [],
   "source": [
    "numero = int(input(\"Introduce un numero: \"))\n",
    "if numero in array:\n",
    "    print(\"El numero esta en la lista\")\n",
    "    print(\"Su indice es: \", array.index(numero))\n",
    "else:\n",
    "    print(\"El numero no esta en la lista\")"
   ]
  },
  {
   "cell_type": "markdown",
   "metadata": {},
   "source": [
    "4- Pedimos un numero, si esta en el array lo multiplicamos"
   ]
  },
  {
   "cell_type": "code",
   "execution_count": 8,
   "metadata": {},
   "outputs": [
    {
     "name": "stdout",
     "output_type": "stream",
     "text": [
      "El numero esta en la lista, lo multiplicaremos por 5\n",
      "[96, 90, 35, 30, 32, 86, 68, 66, 22, 27, 60, 88, 67, 73, 37, 32, 6, 44, 47, 92]\n"
     ]
    }
   ],
   "source": [
    "# Podemos usar un array propio o el aleatorio creado anteriormente.\n",
    "\n",
    "numero          = int(input(\"Ingrese su numero: \"))\n",
    "multiplicador   = int(input(\"¿Por cuando desea multiplicar?: \"))\n",
    "\n",
    "if numero in array:\n",
    "    print(\"El numero esta en la lista, lo multiplicaremos por\", multiplicador)\n",
    "    array[array.index(numero)] = numero * multiplicador\n",
    "    print(array)"
   ]
  },
  {
   "cell_type": "markdown",
   "metadata": {},
   "source": [
    "5- Creamos una funcion que devuelva una lista con los valores que estan duplicados"
   ]
  },
  {
   "cell_type": "code",
   "execution_count": 25,
   "metadata": {},
   "outputs": [
    {
     "data": {
      "text/plain": [
       "[6, 7]"
      ]
     },
     "execution_count": 25,
     "metadata": {},
     "output_type": "execute_result"
    }
   ],
   "source": [
    "def buscar_duplicados(elements):\n",
    "    duplicates, seen = set(), set()\n",
    "\n",
    "    for element in elements:\n",
    "        \n",
    "        # Comprobamos si existe en seen\n",
    "        if element in seen:\n",
    "            duplicates.add(element)\n",
    "\n",
    "        # Añadimos el elemento a seen para comprobarlo posteriormente\n",
    "        seen.add(element)\n",
    "\n",
    "    return list(duplicates)\n",
    "\n",
    "buscar_duplicados([1,2,3,4,5,6,6,7,7]) "
   ]
  },
  {
   "cell_type": "markdown",
   "metadata": {},
   "source": [
    "6- Creamos una funcion que verifica si las palabras son anagramas"
   ]
  },
  {
   "cell_type": "code",
   "execution_count": 26,
   "metadata": {},
   "outputs": [
    {
     "name": "stdout",
     "output_type": "stream",
     "text": [
      "Las palabras son iguales\n"
     ]
    }
   ],
   "source": [
    "def anagrama(palabra1, palabra2):\n",
    "    if set(palabra1) == set(palabra2):\n",
    "        print(\"Las palabras son iguales\")\n",
    "\n",
    "anagrama(\"hola\", \"aloh\")"
   ]
  },
  {
   "cell_type": "markdown",
   "metadata": {},
   "source": [
    "7- Imprimimos valores unicos"
   ]
  },
  {
   "cell_type": "code",
   "execution_count": 27,
   "metadata": {},
   "outputs": [
    {
     "name": "stdout",
     "output_type": "stream",
     "text": [
      "[1, 2, 3, 4, 5]\n"
     ]
    }
   ],
   "source": [
    "lista_duplicada = [1,2,3,4,5]*5\n",
    "print(list(set(lista_duplicada)))"
   ]
  }
 ],
 "metadata": {
  "interpreter": {
   "hash": "56d00b2c8a512fcc83dc6fd140f47f133fc90ee671b30dde289f3f77a589b1df"
  },
  "kernelspec": {
   "display_name": "Python 3.9.10 64-bit (windows store)",
   "language": "python",
   "name": "python3"
  },
  "language_info": {
   "codemirror_mode": {
    "name": "ipython",
    "version": 3
   },
   "file_extension": ".py",
   "mimetype": "text/x-python",
   "name": "python",
   "nbconvert_exporter": "python",
   "pygments_lexer": "ipython3",
   "version": "3.9.10"
  },
  "orig_nbformat": 4
 },
 "nbformat": 4,
 "nbformat_minor": 2
}
