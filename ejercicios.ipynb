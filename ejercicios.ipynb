{
 "cells": [
  {
   "cell_type": "markdown",
   "metadata": {},
   "source": [
    "# Ejercicios Python\n",
    "\n",
    "Conjunto de ejercicios que por si solos no merecen un repositorio, pero en conjunto puede ser una buena guia para que alguien practique."
   ]
  },
  {
   "cell_type": "markdown",
   "metadata": {},
   "source": [
    "1- Comprobamos si el numero esta o no en el array"
   ]
  },
  {
   "cell_type": "markdown",
   "metadata": {},
   "source": [
    "2- Generamos un array con valores aleatorios"
   ]
  },
  {
   "cell_type": "markdown",
   "metadata": {},
   "source": [
    "3- Si el numero esta en la lista, imprimimo el indice de la posicion"
   ]
  },
  {
   "cell_type": "markdown",
   "metadata": {},
   "source": [
    "4- Pedimos un numero, si esta en el array lo multiplicamos"
   ]
  },
  {
   "cell_type": "markdown",
   "metadata": {},
   "source": [
    "5- Creamos una funcion que devuelva una lista con los valores que estan duplicados"
   ]
  },
  {
   "cell_type": "markdown",
   "metadata": {},
   "source": [
    "6- Creamos una funcion que verifica si las palabras son anagramas"
   ]
  },
  {
   "cell_type": "markdown",
   "metadata": {},
   "source": [
    "7- Imprimimos valores unicos"
   ]
  }
 ],
 "metadata": {
  "interpreter": {
   "hash": "56d00b2c8a512fcc83dc6fd140f47f133fc90ee671b30dde289f3f77a589b1df"
  },
  "kernelspec": {
   "display_name": "Python 3.9.10 64-bit (windows store)",
   "language": "python",
   "name": "python3"
  },
  "language_info": {
   "codemirror_mode": {
    "name": "ipython",
    "version": 3
   },
   "file_extension": ".py",
   "mimetype": "text/x-python",
   "name": "python",
   "nbconvert_exporter": "python",
   "pygments_lexer": "ipython3",
   "version": "3.9.10"
  },
  "orig_nbformat": 4
 },
 "nbformat": 4,
 "nbformat_minor": 2
}
